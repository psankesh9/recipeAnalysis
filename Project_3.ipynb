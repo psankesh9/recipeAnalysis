{
 "cells": [
  {
   "cell_type": "markdown",
   "metadata": {},
   "source": [
    "# Your Title Here\n",
    "\n",
    "**Name(s)**: Johnny Gonzales, Pratheek Sankeshi\n",
    "\n",
    "**Website Link**: https://psankesh9.github.io/recipeAnalysis/"
   ]
  },
  {
   "cell_type": "markdown",
   "metadata": {},
   "source": [
    "## Code"
   ]
  },
  {
   "cell_type": "code",
   "execution_count": 1,
   "metadata": {
    "ExecuteTime": {
     "end_time": "2019-10-31T23:36:28.652554Z",
     "start_time": "2019-10-31T23:36:27.180520Z"
    }
   },
   "outputs": [],
   "source": [
    "import pandas as pd\n",
    "import numpy as np\n",
    "import os\n",
    "from scipy import stats\n",
    "import plotly.express as px\n",
    "pd.options.plotting.backend = 'plotly' "
   ]
  },
  {
   "cell_type": "markdown",
   "metadata": {},
   "source": [
    "### Cleaning and EDA"
   ]
  },
  {
   "cell_type": "code",
   "execution_count": 2,
   "metadata": {
    "ExecuteTime": {
     "end_time": "2019-10-31T23:36:28.657068Z",
     "start_time": "2019-10-31T23:36:28.654650Z"
    }
   },
   "outputs": [],
   "source": [
    "import pandas as pd\n",
    "import numpy as np\n",
    "\n",
    "# Load the datasets\n",
    "interactions = pd.read_csv(\"RAW_interactions.csv\")\n",
    "recipes = pd.read_csv(\"RAW_recipes.csv\")\n",
    "\n",
    "# Merge the DataFrames\n",
    "merged_df = pd.merge(recipes, interactions, left_on='id', right_on='recipe_id', how='left')\n",
    "\n",
    "# Remove duplicates\n",
    "merged_df = merged_df.drop_duplicates()\n",
    "\n",
    "# Convert date columns to datetime format\n",
    "merged_df['submitted'] = pd.to_datetime(merged_df['submitted'])\n",
    "merged_df['date'] = pd.to_datetime(merged_df['date'])\n",
    "\n",
    "# Convert 'id' to string, drop 'recipe_id' since it's redundant after the merge\n",
    "merged_df['id'] = merged_df['id'].astype(str)\n",
    "merged_df.drop('recipe_id', axis=1, inplace=True)\n",
    "\n",
    "# Replace 0 Ratings with NaN\n",
    "merged_df['rating'].replace(0, np.nan, inplace=True)\n",
    "\n",
    "# Calculate Average Rating per Recipe\n",
    "average_ratings = merged_df.groupby('id')['rating'].mean().reset_index()\n",
    "average_ratings.rename(columns={'rating': 'average_rating'}, inplace=True)\n",
    "\n",
    "# Drop the existing 'average_rating' column in merged_df to avoid duplicates\n",
    "if 'average_rating' in merged_df.columns:\n",
    "    merged_df.drop('average_rating', axis=1, inplace=True)\n",
    "\n",
    "# Merge the Average Ratings into merged_df\n",
    "merged_df = pd.merge(merged_df, average_ratings, on='id', how='left')\n"
   ]
  },
  {
   "cell_type": "code",
   "execution_count": 3,
   "metadata": {},
   "outputs": [],
   "source": [
    "# Replace 'merged_df' with the name of your DataFrame\n",
    "merged_df.to_csv('my_processed_data.csv', index=False)\n"
   ]
  },
  {
   "cell_type": "code",
   "execution_count": 5,
   "metadata": {},
   "outputs": [],
   "source": [
    "import matplotlib.pyplot as plt\n",
    "import seaborn as sns\n",
    "import pandas as pd\n",
    "import plotly.tools as tls\n",
    "\n",
    "# Assuming merged_df is your DataFrame\n",
    "\n",
    "# Function to convert seaborn plot to HTML\n",
    "def save_plot_to_html(plot, file_name):\n",
    "    fig = tls.mpl_to_plotly(plot.figure)\n",
    "    fig.write_html(f'assets/{file_name}.html', include_plotlyjs='cdn')\n",
    "    plt.close()\n",
    "\n",
    "# Plotting the distribution of the number of steps in recipes\n",
    "plt.figure(figsize=(12, 6))\n",
    "plot = sns.histplot(merged_df['n_steps'], bins=30, kde=True)\n",
    "plt.title('Distribution of Number of Steps in Recipes')\n",
    "plt.xlabel('Number of Steps')\n",
    "plt.ylabel('Frequency')\n",
    "save_plot_to_html(plot, 'distribution_of_steps')\n",
    "\n",
    "# Plotting the distribution of the number of ingredients in recipes\n",
    "plt.figure(figsize=(12, 6))\n",
    "plot = sns.histplot(merged_df['n_ingredients'], bins=30, kde=True)\n",
    "plt.title('Distribution of Number of Ingredients in Recipes')\n",
    "plt.xlabel('Number of Ingredients')\n",
    "plt.ylabel('Frequency')\n",
    "save_plot_to_html(plot, 'distribution_of_ingredients')\n",
    "\n",
    "# Plotting the distribution of average ratings\n",
    "plt.figure(figsize=(12, 6))\n",
    "plot = sns.histplot(merged_df['average_rating'].dropna(), bins=30, kde=True)\n",
    "plt.title('Distribution of Average Ratings')\n",
    "plt.xlabel('Average Rating')\n",
    "plt.ylabel('Frequency')\n",
    "save_plot_to_html(plot, 'distribution_of_ratings')\n",
    "\n",
    "# Relationship between Number of Steps and Average Rating\n",
    "plt.figure(figsize=(12, 6))\n",
    "plot = sns.scatterplot(x='n_steps', y='average_rating', data=merged_df)\n",
    "plt.title('Relationship Between Number of Steps and Average Rating')\n",
    "plt.xlabel('Number of Steps')\n",
    "plt.ylabel('Average Rating')\n",
    "save_plot_to_html(plot, 'steps_vs_average_rating')\n",
    "\n",
    "# Relationship between Number of Ingredients and Average Rating\n",
    "plt.figure(figsize=(12, 6))\n",
    "plot = sns.scatterplot(x='n_ingredients', y='average_rating', data=merged_df)\n",
    "plt.title('Relationship Between Number of Ingredients and Average Rating')\n",
    "plt.xlabel('Number of Ingredients')\n",
    "plt.ylabel('Average Rating')\n",
    "save_plot_to_html(plot, 'ingredients_vs_average_rating')\n"
   ]
  },
  {
   "cell_type": "markdown",
   "metadata": {},
   "source": [
    "### Assessment of Missingness"
   ]
  },
  {
   "cell_type": "code",
   "execution_count": 6,
   "metadata": {
    "ExecuteTime": {
     "end_time": "2019-10-31T23:36:28.662099Z",
     "start_time": "2019-10-31T23:36:28.660016Z"
    }
   },
   "outputs": [
    {
     "name": "stdout",
     "output_type": "stream",
     "text": [
      "P-value for dependency of missingness in 'rating' on 'n_steps': 1.0\n"
     ]
    }
   ],
   "source": [
    "def missingness_test(data, column_to_test, column_with_missingness):\n",
    "    \"\"\"\n",
    "    Performs a permutation test to check if the missingness in one column \n",
    "    depends on values in another column.\n",
    "    \n",
    "    :param data: pandas DataFrame\n",
    "    :param column_to_test: Column to test for dependency\n",
    "    :param column_with_missingness: Column with missing values\n",
    "    :return: p-value from the permutation test\n",
    "    \"\"\"\n",
    "    # Create a mask for missing values\n",
    "    missing = data[column_with_missingness].isnull()\n",
    "\n",
    "    # Calculate the observed test statistic (mean difference)\n",
    "    observed_statistic = data.loc[missing, column_to_test].mean() - data.loc[~missing, column_to_test].mean()\n",
    "\n",
    "    # Permutation test\n",
    "    n_reps = 1000\n",
    "    perm_stats = np.zeros(n_reps)\n",
    "    for i in range(n_reps):\n",
    "        # Shuffle the missingness labels\n",
    "        shuffled_missing = data[column_with_missingness].sample(frac=1, replace=False).isnull()\n",
    "        perm_stats[i] = data.loc[shuffled_missing, column_to_test].mean() - data.loc[~shuffled_missing, column_to_test].mean()\n",
    "\n",
    "    # Compute p-value\n",
    "    p_value = np.mean(perm_stats >= observed_statistic)\n",
    "\n",
    "    return p_value\n",
    "\n",
    "# Example usage\n",
    "p_value = missingness_test(merged_df, 'n_steps', 'rating')\n",
    "print(f\"P-value for dependency of missingness in 'rating' on 'n_steps': {p_value}\")"
   ]
  },
  {
   "cell_type": "markdown",
   "metadata": {},
   "source": [
    "### Hypothesis Testing"
   ]
  },
  {
   "cell_type": "code",
   "execution_count": 7,
   "metadata": {
    "ExecuteTime": {
     "end_time": "2019-10-31T23:36:28.666489Z",
     "start_time": "2019-10-31T23:36:28.664381Z"
    }
   },
   "outputs": [
    {
     "name": "stdout",
     "output_type": "stream",
     "text": [
      "T-statistic: 1.042663633427837, P-value: 0.2971051945778797\n"
     ]
    }
   ],
   "source": [
    "# Hypothesis Testing: Effect of number of ingredients on average rating\n",
    "\n",
    "# Splitting the data into two groups based on a median split of 'n_ingredients'\n",
    "median_ingredients = merged_df['n_ingredients'].median()\n",
    "group1 = merged_df[merged_df['n_ingredients'] <= median_ingredients]['average_rating']\n",
    "group2 = merged_df[merged_df['n_ingredients'] > median_ingredients]['average_rating']\n",
    "\n",
    "# Performing a t-test\n",
    "t_stat, p_value = stats.ttest_ind(group1.dropna(), group2.dropna())\n",
    "\n",
    "print(f\"T-statistic: {t_stat}, P-value: {p_value}\")\n"
   ]
  },
  {
   "cell_type": "code",
   "execution_count": 8,
   "metadata": {},
   "outputs": [
    {
     "ename": "SyntaxError",
     "evalue": "EOF while scanning triple-quoted string literal (3149383229.py, line 8)",
     "output_type": "error",
     "traceback": [
      "\u001b[0;36m  Cell \u001b[0;32mIn [8], line 8\u001b[0;36m\u001b[0m\n\u001b[0;31m    \"\"\"\"\"\"\u001b[0m\n\u001b[0m          \n^\u001b[0m\n\u001b[0;31mSyntaxError\u001b[0m\u001b[0;31m:\u001b[0m EOF while scanning triple-quoted string literal\n"
     ]
    }
   ],
   "source": [
    "\"\"\"\n",
    "P-value for dependency of missingness in 'rating' on 'n_steps': 1.0\n",
    "This p-value suggests that the missingness in the 'rating' column is not dependent on the 'n_steps' column. A p-value of 1.0 indicates that our observed statistic is completely within the range of what we'd expect under the null hypothesis (that missingness in 'rating' is independent of 'n_steps'). This means there is no evidence to suggest that the number of steps in a recipe influences whether its rating is missing.\n",
    "Hypothesis Testing:\n",
    "T-statistic: 1.042663633427837, P-value: 0.2971051945778797\n",
    "The p-value obtained from the t-test is about 0.297, which is not lower than the common significance level (e.g., 0.05). Therefore, we fail to reject the null hypothesis. This result suggests that there is no significant difference in average ratings between recipes with fewer ingredients (less than or equal to the median) and those with more ingredients (greater than the median). In other words, the number of ingredients in a recipe does not seem to have a significant effect on its average rating.\n",
    "Based on these findings, it appears that the complexity of a recipe, in terms of the number of steps or ingredients, does not significantly influence its likelihood of being rated or its average rating. This could indicate that other factors, possibly related to the content or quality of the recipe itself, might be more influential in determining these aspects.\n",
    "\"\"\"\"\"\""
   ]
  },
  {
   "cell_type": "code",
   "execution_count": null,
   "metadata": {},
   "outputs": [],
   "source": []
  }
 ],
 "metadata": {
  "kernelspec": {
   "display_name": "Python 3 (ipykernel)",
   "language": "python",
   "name": "python3"
  },
  "language_info": {
   "codemirror_mode": {
    "name": "ipython",
    "version": 3
   },
   "file_extension": ".py",
   "mimetype": "text/x-python",
   "name": "python",
   "nbconvert_exporter": "python",
   "pygments_lexer": "ipython3",
   "version": "3.9.5"
  }
 },
 "nbformat": 4,
 "nbformat_minor": 2
}
